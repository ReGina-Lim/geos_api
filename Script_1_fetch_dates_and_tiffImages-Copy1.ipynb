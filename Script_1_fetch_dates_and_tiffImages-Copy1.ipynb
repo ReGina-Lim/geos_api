{
 "cells": [
  {
   "cell_type": "markdown",
   "id": "3971f14e",
   "metadata": {},
   "source": [
    "##### Import Libraries"
   ]
  },
  {
   "cell_type": "code",
   "execution_count": 1,
   "id": "20aa4e72",
   "metadata": {},
   "outputs": [
    {
     "name": "stderr",
     "output_type": "stream",
     "text": [
      "/usr/local/Caskroom/miniconda/base/envs/rs/lib/python3.9/site-packages/geopandas/_compat.py:111: UserWarning: The Shapely GEOS version (3.9.1-CAPI-1.14.2) is incompatible with the GEOS version PyGEOS was compiled with (3.10.0-CAPI-1.16.0). Conversions between both will be slow.\n",
      "  warnings.warn(\n"
     ]
    }
   ],
   "source": [
    "import geopandas as gpd\n",
    "import requests\n",
    "import os\n",
    "import json\n",
    "import logging"
   ]
  },
  {
   "cell_type": "markdown",
   "id": "80cb2487",
   "metadata": {},
   "source": [
    "##### Create Log File"
   ]
  },
  {
   "cell_type": "code",
   "execution_count": 2,
   "id": "ed5a66c7",
   "metadata": {},
   "outputs": [],
   "source": [
    "# Give a name to your log file\n",
    "LOG_FILE = 'Script_1_tiff_images.log'\n",
    "\n",
    "# Create log file (and set configuration to INFO)\n",
    "logging.basicConfig(filename=LOG_FILE,level=logging.INFO,\n",
    "                    format='%(asctime)s:%(levelname)s:%(message)s')"
   ]
  },
  {
   "cell_type": "markdown",
   "id": "94918d49",
   "metadata": {},
   "source": [
    "##### Create Directory (Folder)"
   ]
  },
  {
   "cell_type": "code",
   "execution_count": 3,
   "id": "7dfa6076",
   "metadata": {},
   "outputs": [],
   "source": [
    "# Name your tiff folder\n",
    "TIFF_FOLDER = 'Script_1_tiff_images/'\n",
    "\n",
    "# Create Directory/ Folder to later store tiff images (wont overwrite if folder exists)\n",
    "if not os.path.exists(TIFF_FOLDER):\n",
    "    os.makedirs(TIFF_FOLDER)"
   ]
  },
  {
   "cell_type": "markdown",
   "id": "9820d7d1",
   "metadata": {},
   "source": [
    "##### Load API Credentials"
   ]
  },
  {
   "cell_type": "code",
   "execution_count": 4,
   "id": "4d8eb88a",
   "metadata": {},
   "outputs": [],
   "source": [
    "# State your existing API credential file name\n",
    "CREDENTIALS_FILE = 'credentials.json'\n",
    "\n",
    "# Load API Credentials\n",
    "with open(CREDENTIALS_FILE, 'r') as file:\n",
    "    CREDENTIALS = json.load(file) # dictionary \n",
    "    APIKEY = CREDENTIALS['x-api-key'] # dict value "
   ]
  },
  {
   "cell_type": "markdown",
   "id": "128bdd5a",
   "metadata": {},
   "source": [
    "##### Indicate Preferred Date Period"
   ]
  },
  {
   "cell_type": "code",
   "execution_count": 5,
   "id": "2fd43eb4",
   "metadata": {},
   "outputs": [],
   "source": [
    "# State the preferred date period which you are interested to get tiff images on\n",
    "START_DATE = '2021-12-15'\n",
    "END_DATE = '2021-12-31'"
   ]
  },
  {
   "cell_type": "markdown",
   "id": "662f7ab3",
   "metadata": {},
   "source": [
    "### Section 1 - Prepare API Request Data"
   ]
  },
  {
   "cell_type": "markdown",
   "id": "f0976698",
   "metadata": {},
   "source": [
    "##### Read/ load Shapefile"
   ]
  },
  {
   "cell_type": "code",
   "execution_count": 6,
   "id": "ed0bafd0",
   "metadata": {},
   "outputs": [
    {
     "data": {
      "text/html": [
       "<div>\n",
       "<style scoped>\n",
       "    .dataframe tbody tr th:only-of-type {\n",
       "        vertical-align: middle;\n",
       "    }\n",
       "\n",
       "    .dataframe tbody tr th {\n",
       "        vertical-align: top;\n",
       "    }\n",
       "\n",
       "    .dataframe thead th {\n",
       "        text-align: right;\n",
       "    }\n",
       "</style>\n",
       "<table border=\"1\" class=\"dataframe\">\n",
       "  <thead>\n",
       "    <tr style=\"text-align: right;\">\n",
       "      <th></th>\n",
       "      <th>geometry</th>\n",
       "    </tr>\n",
       "  </thead>\n",
       "  <tbody>\n",
       "    <tr>\n",
       "      <th>0</th>\n",
       "      <td>POLYGON ((84.01875 26.68606, 84.01888 26.68566...</td>\n",
       "    </tr>\n",
       "    <tr>\n",
       "      <th>1</th>\n",
       "      <td>POLYGON ((78.58184 29.08218, 78.58193 29.08213...</td>\n",
       "    </tr>\n",
       "    <tr>\n",
       "      <th>2</th>\n",
       "      <td>POLYGON ((71.58564 25.78761, 71.58641 25.78688...</td>\n",
       "    </tr>\n",
       "    <tr>\n",
       "      <th>3</th>\n",
       "      <td>POLYGON ((78.93822 27.29710, 78.93849 27.29688...</td>\n",
       "    </tr>\n",
       "    <tr>\n",
       "      <th>4</th>\n",
       "      <td>POLYGON ((78.77363 24.02042, 78.77419 24.02104...</td>\n",
       "    </tr>\n",
       "  </tbody>\n",
       "</table>\n",
       "</div>"
      ],
      "text/plain": [
       "                                            geometry\n",
       "0  POLYGON ((84.01875 26.68606, 84.01888 26.68566...\n",
       "1  POLYGON ((78.58184 29.08218, 78.58193 29.08213...\n",
       "2  POLYGON ((71.58564 25.78761, 71.58641 25.78688...\n",
       "3  POLYGON ((78.93822 27.29710, 78.93849 27.29688...\n",
       "4  POLYGON ((78.77363 24.02042, 78.77419 24.02104..."
      ]
     },
     "execution_count": 6,
     "metadata": {},
     "output_type": "execute_result"
    }
   ],
   "source": [
    "# State your existing shapefile location (directory)\n",
    "SHAPEFILE_DIR = \"layers/POLYGON.shp\"   \n",
    "\n",
    "# Load shapefile\n",
    "FARMS_DF = gpd.read_file(SHAPEFILE_DIR) # geo df\n",
    "FARMS_DF.head()"
   ]
  },
  {
   "cell_type": "markdown",
   "id": "fa48045c",
   "metadata": {},
   "source": [
    "##### F1 - Update Dataframe"
   ]
  },
  {
   "cell_type": "code",
   "execution_count": 7,
   "id": "ee216340",
   "metadata": {
    "scrolled": true
   },
   "outputs": [],
   "source": [
    "def update_dataframe(farms_df):\n",
    "    \"\"\" Add tracker variables to dataframe.\n",
    "\n",
    "    Create an additional 'farm_index' column with farm indexes to the dataframe.\n",
    "    \n",
    "    Params:\n",
    "        (geodataframe): shapefile dataframe\n",
    "\n",
    "    Returns:\n",
    "        (geodataframe): An updated dataframe with an additional column.\n",
    "    \"\"\"\n",
    "    # Create an empty list\n",
    "    farm_id = []   \n",
    "\n",
    "    for i in farms_df.index:\n",
    "        \n",
    "        # Name farm by index numbering\n",
    "        farm_ind = \"farm_{0}\".format(i + 1) # str\n",
    "        \n",
    "        # Append farm index into the empty list\n",
    "        farm_id.append(farm_ind)  \n",
    "\n",
    "    # Create a new column named 'farm_index' & filled with 'farm_id' list      \n",
    "    farms_df['farm_index'] = farm_id \n",
    "    \n",
    "    # Name the updated farms df\n",
    "    updated_farms_df = farms_df \n",
    "    \n",
    "    return updated_farms_df # Return the NEW/UPDATED dataframe"
   ]
  },
  {
   "cell_type": "code",
   "execution_count": 8,
   "id": "60a41e71",
   "metadata": {
    "scrolled": true
   },
   "outputs": [
    {
     "data": {
      "text/html": [
       "<div>\n",
       "<style scoped>\n",
       "    .dataframe tbody tr th:only-of-type {\n",
       "        vertical-align: middle;\n",
       "    }\n",
       "\n",
       "    .dataframe tbody tr th {\n",
       "        vertical-align: top;\n",
       "    }\n",
       "\n",
       "    .dataframe thead th {\n",
       "        text-align: right;\n",
       "    }\n",
       "</style>\n",
       "<table border=\"1\" class=\"dataframe\">\n",
       "  <thead>\n",
       "    <tr style=\"text-align: right;\">\n",
       "      <th></th>\n",
       "      <th>geometry</th>\n",
       "      <th>farm_index</th>\n",
       "    </tr>\n",
       "  </thead>\n",
       "  <tbody>\n",
       "    <tr>\n",
       "      <th>0</th>\n",
       "      <td>POLYGON ((84.01875 26.68606, 84.01888 26.68566...</td>\n",
       "      <td>farm_1</td>\n",
       "    </tr>\n",
       "    <tr>\n",
       "      <th>1</th>\n",
       "      <td>POLYGON ((78.58184 29.08218, 78.58193 29.08213...</td>\n",
       "      <td>farm_2</td>\n",
       "    </tr>\n",
       "    <tr>\n",
       "      <th>2</th>\n",
       "      <td>POLYGON ((71.58564 25.78761, 71.58641 25.78688...</td>\n",
       "      <td>farm_3</td>\n",
       "    </tr>\n",
       "    <tr>\n",
       "      <th>3</th>\n",
       "      <td>POLYGON ((78.93822 27.29710, 78.93849 27.29688...</td>\n",
       "      <td>farm_4</td>\n",
       "    </tr>\n",
       "    <tr>\n",
       "      <th>4</th>\n",
       "      <td>POLYGON ((78.77363 24.02042, 78.77419 24.02104...</td>\n",
       "      <td>farm_5</td>\n",
       "    </tr>\n",
       "  </tbody>\n",
       "</table>\n",
       "</div>"
      ],
      "text/plain": [
       "                                            geometry farm_index\n",
       "0  POLYGON ((84.01875 26.68606, 84.01888 26.68566...     farm_1\n",
       "1  POLYGON ((78.58184 29.08218, 78.58193 29.08213...     farm_2\n",
       "2  POLYGON ((71.58564 25.78761, 71.58641 25.78688...     farm_3\n",
       "3  POLYGON ((78.93822 27.29710, 78.93849 27.29688...     farm_4\n",
       "4  POLYGON ((78.77363 24.02042, 78.77419 24.02104...     farm_5"
      ]
     },
     "execution_count": 8,
     "metadata": {},
     "output_type": "execute_result"
    }
   ],
   "source": [
    "# Call Function 1\n",
    "UPDATED_FARMS_DF = update_dataframe(FARMS_DF)\n",
    "UPDATED_FARMS_DF.head()"
   ]
  },
  {
   "cell_type": "markdown",
   "id": "cbae233d",
   "metadata": {},
   "source": [
    "##### Write updated df into geojson file (stored within tiff image folder)"
   ]
  },
  {
   "cell_type": "code",
   "execution_count": 9,
   "id": "017a4afd",
   "metadata": {},
   "outputs": [],
   "source": [
    "# Name your geojson file\n",
    "GEOJSON_FILE = 'farms_df_updated.geojson'\n",
    "\n",
    "# Write the updated farms df into a geojson file and store it within tiff image folder\n",
    "  # Note: will overwrite if same geojson file exists\n",
    "UPDATED_FARMS_DF.to_file(TIFF_FOLDER +'/'+ GEOJSON_FILE, driver='GeoJSON')"
   ]
  },
  {
   "cell_type": "code",
   "execution_count": 11,
   "id": "69f441e0",
   "metadata": {
    "scrolled": true
   },
   "outputs": [],
   "source": [
    "# # Read geojson file\n",
    "# gpd.read_file(TIFF_FOLDER +'/'+ GEOJSON_FILE, driver='GeoJSON')  "
   ]
  },
  {
   "cell_type": "markdown",
   "id": "2ed052d4",
   "metadata": {},
   "source": [
    "### Section 2 - Create Functions to Make Connection with GEOS API"
   ]
  },
  {
   "cell_type": "markdown",
   "id": "978718cd",
   "metadata": {},
   "source": [
    "##### F2: Get A Farm Boundary Coordinates "
   ]
  },
  {
   "cell_type": "code",
   "execution_count": 12,
   "id": "b0d890ed",
   "metadata": {},
   "outputs": [],
   "source": [
    "def farm_bound_coords(polygon):\n",
    "    \"\"\" Get a farm's boundary coordinates and write them into a desired list format.\n",
    "    \n",
    "    Convert a farm's boundary coordinates (shapely polygon) to a nested list of \n",
    "    coordinate pairs.\n",
    "\n",
    "    Params:\n",
    "        (polygon): shapely.geometry.polygon.Polygon\n",
    "\n",
    "    Returns:\n",
    "        (list): A list of a farm's boundary coordinates.\n",
    "    \"\"\"\n",
    "    lon, lat = polygon.exterior.coords.xy\n",
    "\n",
    "    lon_list = list(lon)\n",
    "    lat_list = list(lat)\n",
    "\n",
    "    farm_bound_coord = [[[x, y] for x, y in zip(lon_list, lat_list)]] # List Comprehension\n",
    "\n",
    "    return farm_bound_coord # List"
   ]
  },
  {
   "cell_type": "code",
   "execution_count": 14,
   "id": "517bf262",
   "metadata": {
    "scrolled": true
   },
   "outputs": [],
   "source": [
    "# # Test Function 2 with 1st row of polygon from df.\n",
    "# FARM_BOUND_COORDS = farm_bound_coords(UPDATED_FARMS_DF.loc[0, 'geometry'])\n",
    "# FARM_BOUND_COORDS"
   ]
  },
  {
   "cell_type": "markdown",
   "id": "4840c7f1",
   "metadata": {},
   "source": [
    "##### F3: Make First API Call to Get Available Dates on A Farm"
   ]
  },
  {
   "cell_type": "code",
   "execution_count": 15,
   "id": "9f6c4b29",
   "metadata": {},
   "outputs": [],
   "source": [
    "def get_avail_dates(farm_bound_coords):\n",
    "    \"\"\" First API call to GEOS API to get the available dates on a farm.\n",
    "    \n",
    "    Using 'post' method and an API key to run an API request to sentinel/wfs-timeline \n",
    "    endpoint. \n",
    "    \n",
    "    Within the API request body, the farm boundary coordinates would be indicated and a \n",
    "    preferred date period (i.e. start date and end date) would be specified so as to \n",
    "    acquire a list of available dates of that farm (polygon) during that period.\n",
    "\n",
    "    Params:\n",
    "        (list): A list containing a farm's boundary coordinates.\n",
    "\n",
    "    Returns:\n",
    "        (list): A list of dates on a farm (polygon).\n",
    "    \"\"\"\n",
    "    \n",
    "    # GEOS API endpoint to request for dates\n",
    "    S_wfs_timeline_endpoint = 'https://abcd.xyz.aabb.xxyy/sentinel/wfs-timeline'\n",
    "\n",
    "    # API Key\n",
    "    api_key_header = {\n",
    "        'X-API-KEY': APIKEY,\n",
    "        'Accept': 'image/tiff'\n",
    "    }\n",
    "\n",
    "    # Default API Request Body (JSON format)\n",
    "    S_wfs_timeline_request_body = {\n",
    "        \"feature\": {\n",
    "            \"geometry\": {\n",
    "                \"coordinates\": farm_bound_coords,\n",
    "                \"type\": \"Polygon\"\n",
    "            },\n",
    "            \"properties\": {},\n",
    "            \"type\": \"Feature\"\n",
    "\n",
    "        },\n",
    "        \"startDate\": START_DATE,\n",
    "        \"endDate\": END_DATE,\n",
    "        \"missionName\": \"S2.TILE\"\n",
    "    }\n",
    " \n",
    "    # Send API request to endpoint using Post Method\n",
    "    response = requests.post(\n",
    "        url=S_wfs_timeline_endpoint,\n",
    "        headers=api_key_header,\n",
    "        json=S_wfs_timeline_request_body\n",
    "    )\n",
    "    \n",
    "    # If response status code is not 200, raise an exception\n",
    "    if response.status_code != 200:\n",
    "        raise Exception('Unable to proceed. API Status Code:{0}'.format(response.status_code))    \n",
    "        \n",
    "    # Otherwise, continue. Convert API response body into text (aka str)\n",
    "    response_body = response.text\n",
    "    \n",
    "    # Convert str to Py Dict/ JSON object \n",
    "    dict_data = json.loads(response_body)\n",
    "    \n",
    "    # Create an empty list\n",
    "    avail_dates =[]\n",
    "    \n",
    "    # Loop the list (which is a dictionary of timestamps)\n",
    "    for i in dict_data['dates']:\n",
    "        \n",
    "        # Create a list of dates (str elements)\n",
    "        avail_dates.append(i['timestamp'])\n",
    "\n",
    "    return avail_dates # List of str dates for a polygon (farm)"
   ]
  },
  {
   "cell_type": "code",
   "execution_count": 17,
   "id": "900146d7",
   "metadata": {},
   "outputs": [],
   "source": [
    "# # Test Function 3 with chosen start and end dates @ beginning of script\n",
    "# AVAIL_DATES = get_avail_dates(FARM_BOUND_COORDS)\n",
    "# AVAIL_DATES"
   ]
  },
  {
   "cell_type": "markdown",
   "id": "f85859af",
   "metadata": {},
   "source": [
    "##### F4: Make Second API Call to Get Tiff Image on A Farm"
   ]
  },
  {
   "cell_type": "code",
   "execution_count": 18,
   "id": "26be7192",
   "metadata": {
    "scrolled": true
   },
   "outputs": [],
   "source": [
    "def get_tiff_image(farm_bound_coords, avail_date, indices):\n",
    "    \"\"\" Second API call to GEOS API to get a farm's tiff image on a particular date.\n",
    "    \n",
    "    Using 'post' method and an API key, run an API request to sentinel-analytics/indices \n",
    "    endpoint.\n",
    "    \n",
    "    Within the API request body, input a farm's boundary coordinates and its available date\n",
    "    and indicate one's choice of indices i.e. INDICES_1 or INDICES_2.\n",
    "    \n",
    "    INDICES_1 will provide S1_NR data while INDICES_2 will give NDVI data. Both indices are \n",
    "    in default list format. (See next 2 cells below)\n",
    "    \n",
    "    Params:\n",
    "        (list): A list of a farm's boundary coordinates.\n",
    "        (str): Available date in the format of \"YYYY-MM-DD\".\n",
    "        (list): Choice of indices which is given in a default list format.\n",
    "\n",
    "    Returns:\n",
    "        (response): API reponse from GEOS API. Response 200 is preferred.\n",
    "        \n",
    "    \"\"\"\n",
    "    # GEOS API endpoint to request for tiff image\n",
    "    SAI_endpoint = 'https://abcd.xyz.aabb.xxyy/sentinel-analytics/indices'\n",
    "\n",
    "    # API Key\n",
    "    api_key_header = {\n",
    "        'X-API-KEY': APIKEY,\n",
    "        'Accept': 'image/tiff'\n",
    "    }\n",
    "\n",
    "    # Default API Request Body (JSON format)\n",
    "    SAI_request_body = {\n",
    "        \"feature\": {\n",
    "            \"geometry\": {\n",
    "                \"coordinates\": farm_bound_coords,\n",
    "                \"type\": \"Polygon\"\n",
    "            },\n",
    "            \"properties\": {},\n",
    "            \"type\": \"Feature\"\n",
    "        },\n",
    "        \"crop\": False,\n",
    "        \"nodata\": 0,\n",
    "        \"resolution\": \"10m\",\n",
    "        \"date\": avail_date,\n",
    "        \"layer\": \"S2_L2A\",\n",
    "        \"includeTileProperties\": True,\n",
    "        \"scaleConfig\": {\n",
    "            \"factor\": 1,\n",
    "            \"resampling\": \"nearest\"\n",
    "        },\n",
    "        \"indices\": indices\n",
    "    }\n",
    "\n",
    "    # Send API request to endpoint using Post Method\n",
    "    response = requests.post(url=SAI_endpoint,\n",
    "                             headers=api_key_header,\n",
    "                             json=SAI_request_body) \n",
    "        \n",
    "    return response # type -> requests.models.Response"
   ]
  },
  {
   "cell_type": "markdown",
   "id": "66576b2c",
   "metadata": {},
   "source": [
    "Two Choice of Indices"
   ]
  },
  {
   "cell_type": "code",
   "execution_count": 19,
   "id": "1dca8f6f",
   "metadata": {},
   "outputs": [],
   "source": [
    "# 2 Choices of Indices.\n",
    "  \n",
    "# INDICES_1 refers to N Sensor data\n",
    "INDICES_1 = [\n",
    "    {\n",
    "        \"name\": \"S1_NR\",\n",
    "        \"parameters\": {\n",
    "            \"m\": 4\n",
    "        }\n",
    "    },\n",
    "    {\n",
    "        \"name\": \"SCL_CLP\"\n",
    "    },\n",
    "    {\n",
    "        \"name\": \"SCL_CLM\",\n",
    "        \"parameters\": {\n",
    "            \"cloudyThreshold\": 0.3\n",
    "        }\n",
    "    }\n",
    "]\n",
    "\n",
    "# INDICES_2 refers to NDVI data\n",
    "INDICES_2 = [\n",
    "    {\n",
    "        \"name\": \"NDVI\"\n",
    "    },\n",
    "    {\n",
    "        \"name\": \"S1_MSI\",\n",
    "        \"parameters\": {\n",
    "            \"scale\": 1\n",
    "        }\n",
    "    }\n",
    "]"
   ]
  },
  {
   "cell_type": "code",
   "execution_count": 21,
   "id": "ec5bc82b",
   "metadata": {},
   "outputs": [],
   "source": [
    "# # Test Function 4 with an available date of the farm and choice of indices\n",
    "# RESPONSE = get_tiff_image(FARM_BOUND_COORDS, \"2021-12-31\", INDICES_1)\n",
    "# RESPONSE # Output Response 200 is good!"
   ]
  },
  {
   "cell_type": "markdown",
   "id": "67575291",
   "metadata": {},
   "source": [
    "### Section 3 - Activate GEOS API Soil Images Acquisition & Storage"
   ]
  },
  {
   "cell_type": "markdown",
   "id": "d6310d27",
   "metadata": {},
   "source": [
    "##### F5:  Make API Requests to acquire tiff images of all farms"
   ]
  },
  {
   "cell_type": "code",
   "execution_count": 22,
   "id": "ae6262f1",
   "metadata": {},
   "outputs": [],
   "source": [
    "def get_files(indices): \n",
    "    \"\"\" Get tiff images for every farm in the updated farms dateframe and save into folder.\n",
    "    \n",
    "    With one's choice of indices, this function loops through the updated farm dataframe \n",
    "    to make API requests to GEOS API through activating the functions defined earlier. \n",
    "    \n",
    "    A successful API response will return a tiff image of a farm on a particular available\n",
    "    date. Multiple API requests would be made in this function and results in multiple tiff\n",
    "    images retrieved. \n",
    "    \n",
    "    These tiff images would then be stored in the folder (directory) created earlier.\n",
    "\n",
    "    Params:\n",
    "        (list): Choice of indices i.e. INDICES_1 or INDICES_2\n",
    "\n",
    "    Returns:\n",
    "        None.\n",
    "    \"\"\"\n",
    "    # Access the first dictionary key's value of the first item in a list\n",
    "    # [{\"\":\"\",\"\":\"\"}, {\"\":\"\",\"\":\"\"}, ...]\n",
    "    ind_name = indices[0]['name']\n",
    "    \n",
    "    # Iterate every row of polygon (farm) in the dataframe\n",
    "    for i in UPDATED_FARMS_DF.index:\n",
    "        \n",
    "        poly = UPDATED_FARMS_DF.loc[i, 'geometry'] # polygon.polygon datatype\n",
    "\n",
    "        # Call F2 to get a farm's boundary coordinates   \n",
    "        coords_list = farm_bound_coords(poly) \n",
    "        \n",
    "        # Call F3 to get a list of available dates on the farm\n",
    "        avail_dates = get_avail_dates(coords_list)\n",
    "        \n",
    "        # Iterate over each date in the list of available dates to get tiff image of farm\n",
    "        for date in avail_dates:\n",
    "            \n",
    "            # Call F4 to get tiff image for a farm on a particular date with chosen indice.  \n",
    "            response = get_tiff_image(coords_list, date, indices)  \n",
    "\n",
    "            if response.status_code == 200:\n",
    "                \n",
    "                # Get content of API reponse \n",
    "                tiff_image = response.content\n",
    "                \n",
    "                # Farm's name by farm index\n",
    "                farm_ind = UPDATED_FARMS_DF.loc[i, 'farm_index'] \n",
    "                \n",
    "                # Directory to store tiff images\n",
    "                path = (TIFF_FOLDER + farm_ind + '_' \n",
    "                        + date + '_' + ind_name + '.tiff')\n",
    "                \n",
    "                # Create a file for every tiff image retrieved from API\n",
    "                with open(path, 'wb') as file:  \n",
    "                    \n",
    "                    # Write API response's content into the file\n",
    "                    file.write(tiff_image) \n",
    "                \n",
    "                logging.info('Request successful for farm {0} {1} {2}.'.format(i+1,\n",
    "                                                                               date,\n",
    "                                                                               ind_name))\n",
    "                \n",
    "            else:\n",
    "                logging.info('Request failed for farm {0} {1} {2}.'.format(i+1,\n",
    "                                                                           date,\n",
    "                                                                           ind_name))      \n",
    "    return            "
   ]
  },
  {
   "cell_type": "code",
   "execution_count": 23,
   "id": "57990d59",
   "metadata": {},
   "outputs": [],
   "source": [
    " # Call Function 5 with choice of INDICES_1 (S1_NR)\n",
    "get_files(INDICES_1)"
   ]
  },
  {
   "cell_type": "code",
   "execution_count": 24,
   "id": "426d790d",
   "metadata": {},
   "outputs": [],
   "source": [
    " # Call Function 5 with choice of INDICES_2 (NDVI)\n",
    "get_files(INDICES_2)"
   ]
  },
  {
   "cell_type": "code",
   "execution_count": null,
   "id": "e4718ea7",
   "metadata": {},
   "outputs": [],
   "source": []
  }
 ],
 "metadata": {
  "kernelspec": {
   "display_name": "Python 3 (ipykernel)",
   "language": "python",
   "name": "python3"
  },
  "language_info": {
   "codemirror_mode": {
    "name": "ipython",
    "version": 3
   },
   "file_extension": ".py",
   "mimetype": "text/x-python",
   "name": "python",
   "nbconvert_exporter": "python",
   "pygments_lexer": "ipython3",
   "version": "3.9.12"
  }
 },
 "nbformat": 4,
 "nbformat_minor": 5
}
