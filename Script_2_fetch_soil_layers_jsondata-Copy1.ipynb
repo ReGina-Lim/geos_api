{
 "cells": [
  {
   "cell_type": "markdown",
   "id": "64a97a4f",
   "metadata": {},
   "source": [
    "##### Import Libraries"
   ]
  },
  {
   "cell_type": "code",
   "execution_count": 1,
   "id": "9b904bf7",
   "metadata": {},
   "outputs": [
    {
     "name": "stderr",
     "output_type": "stream",
     "text": [
      "/usr/local/Caskroom/miniconda/base/envs/rs/lib/python3.9/site-packages/geopandas/_compat.py:111: UserWarning: The Shapely GEOS version (3.9.1-CAPI-1.14.2) is incompatible with the GEOS version PyGEOS was compiled with (3.10.0-CAPI-1.16.0). Conversions between both will be slow.\n",
      "  warnings.warn(\n"
     ]
    }
   ],
   "source": [
    "import requests # To make connection with API\n",
    "import pandas as pd \n",
    "import geopandas as gpd # To read shapefile \n",
    "import json # To save API response data into json file\n",
    "import logging # To create a log file to track progress or highlight issues"
   ]
  },
  {
   "cell_type": "markdown",
   "id": "af367ab7",
   "metadata": {},
   "source": [
    "#####  Create a Log File"
   ]
  },
  {
   "cell_type": "code",
   "execution_count": 3,
   "id": "cfd0fe25",
   "metadata": {},
   "outputs": [],
   "source": [
    "# Name your log file\n",
    "LOG_FILE = 'Script_2_soil_layers.log'    \n",
    "\n",
    "# Create a log file (and set configuration to INFO)\n",
    "  # Note: Wont overwrite if log file exists\n",
    "logging.basicConfig(filename= LOG_FILE,level=logging.INFO,\n",
    "                    format='%(asctime)s:%(levelname)s:%(message)s')"
   ]
  },
  {
   "cell_type": "markdown",
   "id": "a9ac2e01",
   "metadata": {},
   "source": [
    "#####  Load API Credentials"
   ]
  },
  {
   "cell_type": "code",
   "execution_count": 4,
   "id": "f840cae3",
   "metadata": {},
   "outputs": [],
   "source": [
    "CREDENTIALS_FILE = 'credentials.json'\n",
    "\n",
    "# Load API Credentials\n",
    "with open(CREDENTIALS_FILE, 'r') as file:\n",
    "    CREDENTIALS = json.load(file) # dictionary dtype"
   ]
  },
  {
   "cell_type": "markdown",
   "id": "5b4b7f98",
   "metadata": {},
   "source": [
    "### Section 1: Prepare API Request Data"
   ]
  },
  {
   "cell_type": "markdown",
   "id": "aeeca68f",
   "metadata": {},
   "source": [
    "##### Load Shapefile"
   ]
  },
  {
   "cell_type": "code",
   "execution_count": 5,
   "id": "c2b349a3",
   "metadata": {},
   "outputs": [
    {
     "data": {
      "text/html": [
       "<div>\n",
       "<style scoped>\n",
       "    .dataframe tbody tr th:only-of-type {\n",
       "        vertical-align: middle;\n",
       "    }\n",
       "\n",
       "    .dataframe tbody tr th {\n",
       "        vertical-align: top;\n",
       "    }\n",
       "\n",
       "    .dataframe thead th {\n",
       "        text-align: right;\n",
       "    }\n",
       "</style>\n",
       "<table border=\"1\" class=\"dataframe\">\n",
       "  <thead>\n",
       "    <tr style=\"text-align: right;\">\n",
       "      <th></th>\n",
       "      <th>geometry</th>\n",
       "    </tr>\n",
       "  </thead>\n",
       "  <tbody>\n",
       "    <tr>\n",
       "      <th>0</th>\n",
       "      <td>POLYGON ((84.01875 26.68606, 84.01888 26.68566...</td>\n",
       "    </tr>\n",
       "    <tr>\n",
       "      <th>1</th>\n",
       "      <td>POLYGON ((78.58184 29.08218, 78.58193 29.08213...</td>\n",
       "    </tr>\n",
       "    <tr>\n",
       "      <th>2</th>\n",
       "      <td>POLYGON ((71.58564 25.78761, 71.58641 25.78688...</td>\n",
       "    </tr>\n",
       "    <tr>\n",
       "      <th>3</th>\n",
       "      <td>POLYGON ((78.93822 27.29710, 78.93849 27.29688...</td>\n",
       "    </tr>\n",
       "    <tr>\n",
       "      <th>4</th>\n",
       "      <td>POLYGON ((78.77363 24.02042, 78.77419 24.02104...</td>\n",
       "    </tr>\n",
       "  </tbody>\n",
       "</table>\n",
       "</div>"
      ],
      "text/plain": [
       "                                            geometry\n",
       "0  POLYGON ((84.01875 26.68606, 84.01888 26.68566...\n",
       "1  POLYGON ((78.58184 29.08218, 78.58193 29.08213...\n",
       "2  POLYGON ((71.58564 25.78761, 71.58641 25.78688...\n",
       "3  POLYGON ((78.93822 27.29710, 78.93849 27.29688...\n",
       "4  POLYGON ((78.77363 24.02042, 78.77419 24.02104..."
      ]
     },
     "execution_count": 5,
     "metadata": {},
     "output_type": "execute_result"
    }
   ],
   "source": [
    "# State your existing shapefile location (directory)\n",
    "SHAPEFILE_DIR = \"layers/POLYGON.shp\"   \n",
    "\n",
    "# Load shapefile\n",
    "SHAPEFILE_DF = gpd.read_file(SHAPEFILE_DIR) # geo df\n",
    "SHAPEFILE_DF.head()"
   ]
  },
  {
   "cell_type": "markdown",
   "id": "b8dd723a",
   "metadata": {},
   "source": [
    "##### F1 - Modify dataframe"
   ]
  },
  {
   "cell_type": "code",
   "execution_count": 6,
   "id": "3e842e6c",
   "metadata": {},
   "outputs": [],
   "source": [
    "# Name your csv file\n",
    "CSV_FILENAME = 'Script_2_modified_farms_df.csv'  "
   ]
  },
  {
   "cell_type": "code",
   "execution_count": 7,
   "id": "5d006d4a",
   "metadata": {},
   "outputs": [],
   "source": [
    "def modify_df(shapefile_df):\n",
    "    \"\"\" Add four new columns to the shapefile dataframe.\n",
    "    \n",
    "    The four new columns represents a farm's centroid, longitude, latitude and farm index.\n",
    "    \n",
    "    Params:\n",
    "        (geosdataframe): The shapefile dataframe retrieved from reading shapefile.\n",
    "\n",
    "    Returns:\n",
    "        (geosdataframe): modified shapefile dataframe\n",
    "        \n",
    "    \"\"\"\n",
    "    # Create 3 new columns -'centroid','longitude','latitude' with data.\n",
    "    shapefile_df['centroid'] = shapefile_df.centroid # Column with centroid data. \n",
    "    shapefile_df['longitude']= shapefile_df.centroid.x # Column with longtitude data\n",
    "    shapefile_df['latitude'] = shapefile_df.centroid.y # Column with latitude data\n",
    "    \n",
    "    ## Create Data for 4th columns\n",
    "    # Create an empty list to later store farm names. A list of string objects.\n",
    "    farm_index = []\n",
    "    \n",
    "    for i in shapefile_df.index:\n",
    "        farm_id = 'farm_{0}'.format(i+1)\n",
    "        farm_index.append(farm_id)\n",
    "    \n",
    "    # Create 4th new column - 'farm_index' with data\n",
    "    shapefile_df['farm_index'] = farm_index # Column with farm_index data\n",
    "    \n",
    "    # Assign new name to updated df\n",
    "    modified_df = shapefile_df\n",
    "    \n",
    "    # Save modified dataframe as CSV file (named at beginning of script)\n",
    "    modified_df.to_csv(CSV_FILENAME) \n",
    "    \n",
    "    return modified_df # modified df with 4 new columns"
   ]
  },
  {
   "cell_type": "code",
   "execution_count": 8,
   "id": "f96b72a0",
   "metadata": {
    "scrolled": true
   },
   "outputs": [
    {
     "name": "stderr",
     "output_type": "stream",
     "text": [
      "/var/folders/z8/lp4tjxbd48v4dbw1yqd037lm0000gn/T/ipykernel_11647/713976719.py:14: UserWarning: Geometry is in a geographic CRS. Results from 'centroid' are likely incorrect. Use 'GeoSeries.to_crs()' to re-project geometries to a projected CRS before this operation.\n",
      "\n",
      "  shapefile_df['centroid'] = shapefile_df.centroid # Column with centroid data.\n",
      "/var/folders/z8/lp4tjxbd48v4dbw1yqd037lm0000gn/T/ipykernel_11647/713976719.py:15: UserWarning: Geometry is in a geographic CRS. Results from 'centroid' are likely incorrect. Use 'GeoSeries.to_crs()' to re-project geometries to a projected CRS before this operation.\n",
      "\n",
      "  shapefile_df['longitude']= shapefile_df.centroid.x # Column with longtitude data\n",
      "/var/folders/z8/lp4tjxbd48v4dbw1yqd037lm0000gn/T/ipykernel_11647/713976719.py:16: UserWarning: Geometry is in a geographic CRS. Results from 'centroid' are likely incorrect. Use 'GeoSeries.to_crs()' to re-project geometries to a projected CRS before this operation.\n",
      "\n",
      "  shapefile_df['latitude'] = shapefile_df.centroid.y # Column with latitude data\n"
     ]
    },
    {
     "data": {
      "text/html": [
       "<div>\n",
       "<style scoped>\n",
       "    .dataframe tbody tr th:only-of-type {\n",
       "        vertical-align: middle;\n",
       "    }\n",
       "\n",
       "    .dataframe tbody tr th {\n",
       "        vertical-align: top;\n",
       "    }\n",
       "\n",
       "    .dataframe thead th {\n",
       "        text-align: right;\n",
       "    }\n",
       "</style>\n",
       "<table border=\"1\" class=\"dataframe\">\n",
       "  <thead>\n",
       "    <tr style=\"text-align: right;\">\n",
       "      <th></th>\n",
       "      <th>geometry</th>\n",
       "      <th>centroid</th>\n",
       "      <th>longitude</th>\n",
       "      <th>latitude</th>\n",
       "      <th>farm_index</th>\n",
       "    </tr>\n",
       "  </thead>\n",
       "  <tbody>\n",
       "    <tr>\n",
       "      <th>0</th>\n",
       "      <td>POLYGON ((84.01875 26.68606, 84.01888 26.68566...</td>\n",
       "      <td>POINT (84.01912 26.68566)</td>\n",
       "      <td>84.019123</td>\n",
       "      <td>26.685658</td>\n",
       "      <td>farm_1</td>\n",
       "    </tr>\n",
       "    <tr>\n",
       "      <th>1</th>\n",
       "      <td>POLYGON ((78.58184 29.08218, 78.58193 29.08213...</td>\n",
       "      <td>POINT (78.58205 29.08281)</td>\n",
       "      <td>78.582050</td>\n",
       "      <td>29.082805</td>\n",
       "      <td>farm_2</td>\n",
       "    </tr>\n",
       "    <tr>\n",
       "      <th>2</th>\n",
       "      <td>POLYGON ((71.58564 25.78761, 71.58641 25.78688...</td>\n",
       "      <td>POINT (71.58665 25.78710)</td>\n",
       "      <td>71.586647</td>\n",
       "      <td>25.787098</td>\n",
       "      <td>farm_3</td>\n",
       "    </tr>\n",
       "    <tr>\n",
       "      <th>3</th>\n",
       "      <td>POLYGON ((78.93822 27.29710, 78.93849 27.29688...</td>\n",
       "      <td>POINT (78.93855 27.29719)</td>\n",
       "      <td>78.938553</td>\n",
       "      <td>27.297185</td>\n",
       "      <td>farm_4</td>\n",
       "    </tr>\n",
       "    <tr>\n",
       "      <th>4</th>\n",
       "      <td>POLYGON ((78.77363 24.02042, 78.77419 24.02104...</td>\n",
       "      <td>POINT (78.77369 24.02090)</td>\n",
       "      <td>78.773687</td>\n",
       "      <td>24.020901</td>\n",
       "      <td>farm_5</td>\n",
       "    </tr>\n",
       "  </tbody>\n",
       "</table>\n",
       "</div>"
      ],
      "text/plain": [
       "                                            geometry  \\\n",
       "0  POLYGON ((84.01875 26.68606, 84.01888 26.68566...   \n",
       "1  POLYGON ((78.58184 29.08218, 78.58193 29.08213...   \n",
       "2  POLYGON ((71.58564 25.78761, 71.58641 25.78688...   \n",
       "3  POLYGON ((78.93822 27.29710, 78.93849 27.29688...   \n",
       "4  POLYGON ((78.77363 24.02042, 78.77419 24.02104...   \n",
       "\n",
       "                    centroid  longitude   latitude farm_index  \n",
       "0  POINT (84.01912 26.68566)  84.019123  26.685658     farm_1  \n",
       "1  POINT (78.58205 29.08281)  78.582050  29.082805     farm_2  \n",
       "2  POINT (71.58665 25.78710)  71.586647  25.787098     farm_3  \n",
       "3  POINT (78.93855 27.29719)  78.938553  27.297185     farm_4  \n",
       "4  POINT (78.77369 24.02090)  78.773687  24.020901     farm_5  "
      ]
     },
     "execution_count": 8,
     "metadata": {},
     "output_type": "execute_result"
    }
   ],
   "source": [
    "# Call Functiion 1\n",
    "MODIFIED_DF = modify_df(SHAPEFILE_DF)\n",
    "MODIFIED_DF.head()"
   ]
  },
  {
   "cell_type": "markdown",
   "id": "85e0c78a",
   "metadata": {},
   "source": [
    "### Section 2 - Create Functions to Make Connection with GEOS API"
   ]
  },
  {
   "cell_type": "markdown",
   "id": "571b13ec",
   "metadata": {},
   "source": [
    "##### F2 - First API call to Get Soil Layers"
   ]
  },
  {
   "cell_type": "code",
   "execution_count": 9,
   "id": "400b0790",
   "metadata": {},
   "outputs": [],
   "source": [
    "def get_layers(longitude, latitude, farm_name):\n",
    "    \"\"\" First API call to GEOS API to get the soil layers on a farm.\n",
    "    \n",
    "    Using post method to make the API request to 'ground/wps/info' endpoint to acquire \n",
    "    the various soil layers (namely - cec, cfvo, clay, nitrogen, ocd, sand, silt, soc, \n",
    "    ocs, bdod, phh2o) of a single farm.\n",
    "    \n",
    "    Params:\n",
    "        (float): Longtitude value\n",
    "        (float): Latitude value\n",
    "        (str): Give a name to the farm e.g. \"Farm Rainbow\".\n",
    "        \n",
    "    Returns:\n",
    "        (dict): Response body from 'ground/wps/info' endpoint.\n",
    "        \n",
    "    \"\"\"\n",
    "    # Assign a variable to ground/wps/info endpoint (URL)\n",
    "    wps_info_endpoint = 'https://abcd.xyz.aabb.xxyy/ground/wps/info'\n",
    "    \n",
    "    # Assign a variable to API Key (Py Dictionary)\n",
    "    api_key_header = CREDENTIALS\n",
    "       \n",
    "    # Original GEOS-API request body content in JSON format/ Python Dictionary\n",
    "    wps_info_request_body = {\n",
    "      \"longitude\": longitude,\n",
    "      \"latitude\": latitude,\n",
    "      \"version\": \"v1\",\n",
    "      \"source\": \"sg\"\n",
    "    }\n",
    "    \n",
    "    # Send an API request using Post Method to'ground/wps/info' endpoint\n",
    "    # And receive a response which is saved as variable, r.\n",
    "    response = requests.post(url = wps_info_endpoint, \n",
    "                             headers = api_key_header, \n",
    "                             json = wps_info_request_body)\n",
    "\n",
    "    # Parse the response body text as JSON Object (or Python Dictionary)\n",
    "    # And assign a variable it.\n",
    "    wps_info_Dict = response.json()\n",
    "    \n",
    "    # If response status code is not 200, raise an exception\n",
    "    if response.status_code != 200:\n",
    "        raise Exception(' ground/wps/info endpoint. API Status Code:{0}, Fail. Soil layers on {1} (Lon {2} Lat {3}).'.format(response.status_code,\n",
    "                                                                                                                              farm_name, longitude, latitude))\n",
    "        logging.info(' ground/wps/info endpoint. API Status Code:{0}, Fail. Soil layers on {1} (Lon {2} Lat {3}).'.format(response.status_code,\n",
    "                                                                                                                           farm_name, longitude, latitude))\n",
    "    # Otherwise, proceed to acquire soil layers \n",
    "    else:\n",
    "        logging.info(' ground/wps/info endpoint. API Status Code:{0}, Success. Soil layers on {1} (Lon {2} Lat {3}).'.format(response.status_code,\n",
    "                                                                                                                              farm_name, longitude, latitude))\n",
    "    # Show the response body text as JSON Object (Python Dictionary)\n",
    "    return wps_info_Dict"
   ]
  },
  {
   "cell_type": "code",
   "execution_count": 11,
   "id": "ae4cdbd2",
   "metadata": {
    "scrolled": true
   },
   "outputs": [],
   "source": [
    "# ## Test Function2 with a pair of lat-lon coordinates. And assign a variable.\n",
    "# WPS_INFO_DICT = get_layers(11.57307130825532,52.8382292779053,\"Farm Rainbow\")\n",
    "\n",
    "# # Show output (Py Dictionary)\n",
    "# WPS_INFO_DICT"
   ]
  },
  {
   "cell_type": "markdown",
   "id": "06fac741",
   "metadata": {},
   "source": [
    "##### F3 - Remove three soil layers, longitude and lattitude"
   ]
  },
  {
   "cell_type": "code",
   "execution_count": 12,
   "id": "bd9eb47a",
   "metadata": {},
   "outputs": [],
   "source": [
    "def remove_layers(wps_info_Dict):\n",
    "    \"\"\" Remove three soil layers, longitude and latitude.\n",
    "    \n",
    "    Currently, due to glitches with 3 soil layers (namely -'ocs','bdod','phh2o'), these \n",
    "    soil layers would be removed prior to making an API call to 'ground/wps' endpoint. \n",
    "    Also, the 'longitude'and 'latitude' dictionary keys are also not required.\n",
    "    Hence, alter the original dictionary (acquired from 'ground/wps/info' endpoint) to only \n",
    "    have the interested Key-Value pairs.\n",
    "    \n",
    "    Params:\n",
    "        (dict): original dictionary acquired from 'ground/wps/info' endpoint.\n",
    "        \n",
    "    Returns:\n",
    "        (dict): altered dictionary with interested Key-Value Pairs.\n",
    "    \"\"\"\n",
    "    \n",
    "    # Removes following Keys - 'ocs', 'bdod', 'phh2o', 'longitude','latitude'\n",
    "    keys_to_remove = ['ocs','bdod','phh2o','longitude','latitude']\n",
    "    for key in keys_to_remove:\n",
    "        del wps_info_Dict[key]\n",
    "    \n",
    "    # Rename dictionary after removal of keys\n",
    "    alt_Dict = wps_info_Dict   \n",
    "    \n",
    "    # Outputs a dictionary of dicionaries\n",
    "    return alt_Dict "
   ]
  },
  {
   "cell_type": "code",
   "execution_count": 14,
   "id": "6b3bdb18",
   "metadata": {
    "scrolled": true
   },
   "outputs": [],
   "source": [
    "# # Test Function 3\n",
    "# ALT_DICT = remove_layers(WPS_INFO_DICT)\n",
    "# ALT_DICT"
   ]
  },
  {
   "cell_type": "code",
   "execution_count": 16,
   "id": "e0226bd0",
   "metadata": {},
   "outputs": [],
   "source": [
    "# # View the dictionary keys\n",
    "# ALT_DICT.keys()\n",
    "# list(ALT_DICT.keys())"
   ]
  },
  {
   "cell_type": "markdown",
   "id": "d21324a9",
   "metadata": {},
   "source": [
    "##### F4 - Format contents to suit API request body"
   ]
  },
  {
   "cell_type": "code",
   "execution_count": 17,
   "id": "5079fc81",
   "metadata": {},
   "outputs": [],
   "source": [
    "def format_contents(alt_Dict):\n",
    "    \"\"\" Formatting of content to suit API request body.\n",
    "    \n",
    "    Extract the wanted contents, which are the filtered or eight soil layers (dict keys) \n",
    "    and its 'depths' and 'values' data (dict values) from the altered dictionary, to create\n",
    "    a new dictionary format which would be suitable for making an API call later.\n",
    "    \n",
    "    Then, collate each dictionary (which represents a soil layer) into a list.\n",
    "    \n",
    "    Params:\n",
    "        (dict): Altered dictionary is a dictionary containing dictionaries.\n",
    "        \n",
    "    Returns:\n",
    "        (list): A list of dictionaries which represents soil layers.\n",
    "    \"\"\"\n",
    "    # Get dict keys and convert into an iterable list with a new assigned name\n",
    "    layers_list = list(alt_Dict.keys())\n",
    "    \n",
    "    # Create a new empty list to later store elements (of dictionary data type)\n",
    "    layers_dict_list = []\n",
    "    \n",
    "    # For each element (soil layer) in the layers_list, \n",
    "    # create a dictionary and add it to the list\n",
    "    for name in layers_list:\n",
    "        \n",
    "        # Dictionary format contains 3 Key-Value Pairs.\n",
    "        dictionary = {\n",
    "            \"name\":name,\n",
    "            \"depths\":alt_Dict[name]['depths'], \n",
    "            \"values\":alt_Dict[name]['values']\n",
    "        }\n",
    "        \n",
    "        # Append dicionary to the list created earlier\n",
    "        layers_dict_list.append(dictionary)\n",
    "    \n",
    "    # Output a list containing dictionaries\n",
    "    return layers_dict_list"
   ]
  },
  {
   "cell_type": "code",
   "execution_count": 19,
   "id": "538cc89b",
   "metadata": {
    "scrolled": true
   },
   "outputs": [],
   "source": [
    "# # Test Function 4\n",
    "# LAYERS_DICT_LIST = format_contents(ALT_DICT)\n",
    "# LAYERS_DICT_LIST # List of dictionaries"
   ]
  },
  {
   "cell_type": "markdown",
   "id": "f10a9a3b",
   "metadata": {},
   "source": [
    "##### F5 - Second API call to get soil layers info"
   ]
  },
  {
   "cell_type": "code",
   "execution_count": 20,
   "id": "33141fad",
   "metadata": {},
   "outputs": [],
   "source": [
    "def get_soil_info(longitude, latitude, layers_dict_list, farm_name):\n",
    "    \"\"\" Second API call to GEOS API to get a farm's (lon-lat point) soil layers info.\n",
    "\n",
    "    Using post method to make an API request to 'ground/wps' endpoint. \n",
    "    Each API request only seek for one soil layer info.\n",
    "    Eight API requests would be made in this function to gather all the eight soil layers \n",
    "    info on a single farm (i.e. a lon-lat point).\n",
    "    \n",
    "    The eight soil layers, whose info would be retrieved, are 'cec', 'cfvo', clay, nitrogen, \n",
    "    ocd, sand, silt, and soc.\n",
    "    \n",
    "    Note: When making an API request to 'ground/wps' endpoint, API request body is preferred \n",
    "    to seek for only one soil layer's info over all/multiple soil layers' info at any given \n",
    "    time to avoid API error i.e. 429 Error 'Limit Exceeded'.\n",
    "       \n",
    "    Params:\n",
    "        (float): Longtitude value\n",
    "        (float): Latitude value\n",
    "        (list): A list of dictionaries\n",
    "        (str): Give a name to the farm e.g. \"Farm Rainbow\".\n",
    "        \n",
    "    Returns:\n",
    "        (dict): response body from 'ground/wps' endpoint.   \n",
    "    \n",
    "    \"\"\"\n",
    "    # Assign a variable to ground/wps/info endpoint (URL)\n",
    "    wps_endpoint = 'https://abcd.xyz.aabb.xxyy/ground/wps'\n",
    "    \n",
    "    # Assign a variable to API Credentials\n",
    "    api_key_header = CREDENTIALS\n",
    "    \n",
    "    # Create an empty list to later store every soil layer's info retrieved from API request\n",
    "    soil_info_list = []    \n",
    "    \n",
    "    # Loop through each soil layer to make an API request\n",
    "    for each_layer in layers_dict_list:\n",
    "        \n",
    "        # Original GEOS-API request body content in JSON format/ Python Dictionary\n",
    "        wps_request_body = {\n",
    "            \"longitude\": longitude,\n",
    "            \"latitude\": latitude,\n",
    "            \"version\": \"v1\",\n",
    "            \"source\": \"sg\",\n",
    "            \"layers\": [each_layer],\n",
    "            \"resolution\": 10,\n",
    "            \"processingMode\": \"SEQUENTIAL\"\n",
    "        }\n",
    "\n",
    "        # Send an API request and save the reponse as a new variable\n",
    "        response = requests.post(url=wps_endpoint, \n",
    "                                 headers=api_key_header, \n",
    "                                 json=wps_request_body)\n",
    "    \n",
    "        # If response status code is not 200, then raise an exception\n",
    "        if response.status_code != 200:\n",
    "            raise Exception(' ground/wps endpoint. API Status Code:{0}, Fail. Info on soil layer {1}.'.format(response.status_code,longitude,latitude))\n",
    "            logging.info(' ground/wps endpoint. API Status Code:{0}, Fail. Info on soil layer {1}.'.format(response.status_code,longitude,latitude))\n",
    "        \n",
    "        # Otherwise, save reponse body\n",
    "        else:\n",
    "            logging.info(' ground/wps endpoint. API Status Code:{0}, Success. Info on soil layer {1}'.format(response.status_code,each_layer['name']))   \n",
    "            \n",
    "            # Parse the response body text as JSON Object (or Py Dictionary). Assign var name.\n",
    "            wps_output = response.json() \n",
    "            \n",
    "            # Store soil layer's info into the list created earlier\n",
    "            soil_info_list.append(wps_output)\n",
    "\n",
    "    logging.info(\" Completed soil data acquisition on {0}.\".format(farm_name))           \n",
    "    \n",
    "    return soil_info_list # A list containing dictionaries"
   ]
  },
  {
   "cell_type": "code",
   "execution_count": 22,
   "id": "6614e564",
   "metadata": {},
   "outputs": [],
   "source": [
    "# # Test Function 5 \n",
    "# SOIL_INFO_LIST = get_soil_info(11.57307130825532,52.8382292779053,LAYERS_DICT_LIST,\"Farm Rainbow\")\n",
    "# # print(len(SOIL_INFO_LIST)) # 8 => represents 8 soil layers\n",
    "# SOIL_INFO_LIST "
   ]
  },
  {
   "cell_type": "markdown",
   "id": "1bda37b6",
   "metadata": {},
   "source": [
    "### Section 3: Activate GEOS API Soil Data Acquisition & Storage"
   ]
  },
  {
   "cell_type": "markdown",
   "id": "ebe4cb34",
   "metadata": {},
   "source": [
    "##### F6 - Make API requests to acquire soil data of all farms"
   ]
  },
  {
   "cell_type": "code",
   "execution_count": 23,
   "id": "33b4f3aa",
   "metadata": {},
   "outputs": [],
   "source": [
    "# Name your json files\n",
    "JSON_FILENAME = \"Script_2_all_farms_soil_layers_info.json\" "
   ]
  },
  {
   "cell_type": "code",
   "execution_count": 24,
   "id": "cc6e0f70",
   "metadata": {},
   "outputs": [],
   "source": [
    "def get_soil_info_AllFarms(modified_df):\n",
    "    \"\"\" Get soil layers info for every farm in the modified dataframe and save into json file.\n",
    "    \n",
    "    As this function loops through the modified dataframe of farms to make API requests \n",
    "    and through activating the functions defined earlier, the succesful API responses will \n",
    "    return the soil layers info for a single farm.\n",
    "    \n",
    "    And every farm's soil layers info would be collated into a python dictionary with \n",
    "    farm ID as its key and soil layers info as its corresponding value. This dictionary\n",
    "    would then be saved as a json file.\n",
    "    \n",
    "    Params:\n",
    "        (geosdataframe): The modified dataframe gotten from loading shapefile and modify it.\n",
    "\n",
    "    Returns:\n",
    "        (dict): A dictionary of farm index as key and its entire soil layers info as \n",
    "                its value.\n",
    "    \"\"\"\n",
    "    # Create an empty dictionary to later contain all farms' soil layers info\n",
    "    all_farms_soil_layers_info = {}\n",
    "    \n",
    "#     for index, row in df.iterrows()\n",
    "    \n",
    "    # Run through every farm's centroid to get its soil layers info\n",
    "    for lon,lat,farm_id in zip(modified_df['longitude'],\n",
    "                               modified_df['latitude'],\n",
    "                               modified_df['farm_index']):\n",
    "        wps_info_Dict = get_layers(lon, lat, farm_id)  # Call F1\n",
    "        alt_Dict = remove_layers(wps_info_Dict) # Call F2\n",
    "        layers_dict_list = format_contents(alt_Dict) # Call F3\n",
    "        soil_info_list = get_soil_info(lon, lat, layers_dict_list, farm_id) # Call F4 \n",
    "        \n",
    "        # Append every farm's 'soil_info_list' result into dictionary\n",
    "        all_farms_soil_layers_info[farm_id] = soil_info_list\n",
    "        \n",
    "    logging.info(\" OPERATIONS COMPLETED - Completed soil data acquisition of all farms. Saved as json file.\")\n",
    "    \n",
    "    # Save all farms' soil layers info into a json file\n",
    "    with open(JSON_FILENAME, \"w\") as file:\n",
    "        json.dump(all_farms_soil_layers_info, file)\n",
    "    \n",
    "    print(\" OPERATIONS COMPLETED. Next, view soil data with 2 options.\")\n",
    "\n",
    "    # Output a dictionary\n",
    "    return all_farms_soil_layers_info"
   ]
  },
  {
   "cell_type": "code",
   "execution_count": 25,
   "id": "35268f56",
   "metadata": {},
   "outputs": [
    {
     "name": "stdout",
     "output_type": "stream",
     "text": [
      " OPERATIONS COMPLETED. Next, view soil data with 2 options.\n"
     ]
    }
   ],
   "source": [
    "# # Create a shorter df (less API requests) to test function 6. Otherwise, skip to line 5.\n",
    "# MODIFIED_DF2 = MODIFIED_DF.copy() # Make a copy of the orginal modified df\n",
    "# MODIFIED_DF2 = MODIFIED_DF2.iloc[7:8] # manual random selection of rows\n",
    "\n",
    "# Call Function 6\n",
    "ALL_FARMS_SOIL_LAYERS_INFO = get_soil_info_AllFarms(MODIFIED_DF)"
   ]
  },
  {
   "cell_type": "markdown",
   "id": "9a6aa8ee",
   "metadata": {},
   "source": [
    "##### Two options to view result in this python script"
   ]
  },
  {
   "cell_type": "code",
   "execution_count": null,
   "id": "c0238e66",
   "metadata": {},
   "outputs": [],
   "source": [
    "# # Option 1 - View output in a concise format\n",
    "# ALL_FARMS_SOIL_LAYERS_INFO "
   ]
  },
  {
   "cell_type": "code",
   "execution_count": null,
   "id": "7df12a68",
   "metadata": {},
   "outputs": [],
   "source": [
    "# Option 2 - View output in a more readable format with indentation in this python script\n",
    "# using 'json.dumps'method (serializing json -convert py dict to json object)\n",
    "json_object = json.dumps(ALL_FARMS_SOIL_LAYERS_INFO, indent = 4) # str object\n",
    "print(json_object)"
   ]
  },
  {
   "cell_type": "markdown",
   "id": "1edf8558",
   "metadata": {},
   "source": [
    "##### F7 - Code for Reading the (results from) json file"
   ]
  },
  {
   "cell_type": "code",
   "execution_count": null,
   "id": "2e8ba961",
   "metadata": {},
   "outputs": [],
   "source": [
    "# def load_jsonfile():\n",
    "#     \"\"\" Load json file into this python script to view its content\n",
    "    \n",
    "#     Params:\n",
    "#         (str): json file directory e.g. \"all_farms_soil_layers_info.json\".\n",
    "\n",
    "#     Returns:\n",
    "#         (dict): A dictionary of farm index as key and its entire soil layers' info as \n",
    "#                 its value.\n",
    "                \n",
    "#     \"\"\"\n",
    "#     # Open json file\n",
    "#     file = open(JSON_FILENAME)\n",
    "\n",
    "#     # Load the content (dictionary) from json file\n",
    "#     file_content = json.load(file)\n",
    "\n",
    "#     # Close file\n",
    "#     file.close()\n",
    "\n",
    "#     # View content (dictionary)\n",
    "#     return file_content"
   ]
  },
  {
   "cell_type": "code",
   "execution_count": null,
   "id": "c5e494d3",
   "metadata": {},
   "outputs": [],
   "source": [
    "# # Test Function 7\n",
    "# FILE_CONTENT = load_jsonfile()\n",
    "# FILE_CONTENT"
   ]
  },
  {
   "cell_type": "code",
   "execution_count": null,
   "id": "e925daa3",
   "metadata": {},
   "outputs": [],
   "source": []
  },
  {
   "cell_type": "code",
   "execution_count": null,
   "id": "3d266836",
   "metadata": {},
   "outputs": [],
   "source": []
  },
  {
   "cell_type": "code",
   "execution_count": null,
   "id": "c0cc2a03",
   "metadata": {},
   "outputs": [],
   "source": []
  }
 ],
 "metadata": {
  "kernelspec": {
   "display_name": "Python 3 (ipykernel)",
   "language": "python",
   "name": "python3"
  },
  "language_info": {
   "codemirror_mode": {
    "name": "ipython",
    "version": 3
   },
   "file_extension": ".py",
   "mimetype": "text/x-python",
   "name": "python",
   "nbconvert_exporter": "python",
   "pygments_lexer": "ipython3",
   "version": "3.9.12"
  }
 },
 "nbformat": 4,
 "nbformat_minor": 5
}
